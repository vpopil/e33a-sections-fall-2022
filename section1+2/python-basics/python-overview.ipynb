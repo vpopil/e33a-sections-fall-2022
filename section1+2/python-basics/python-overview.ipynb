{
 "cells": [
  {
   "cell_type": "markdown",
   "metadata": {},
   "source": [
    "# \"Hello, World!\" Program"
   ]
  },
  {
   "cell_type": "code",
   "execution_count": 1,
   "metadata": {},
   "outputs": [
    {
     "name": "stdout",
     "output_type": "stream",
     "text": [
      "Hello, World!\n"
     ]
    }
   ],
   "source": [
    "print(\"Hello, World!\")"
   ]
  },
  {
   "cell_type": "markdown",
   "metadata": {},
   "source": [
    " ---"
   ]
  },
  {
   "cell_type": "markdown",
   "metadata": {},
   "source": [
    "# Variables"
   ]
  },
  {
   "cell_type": "code",
   "execution_count": 2,
   "metadata": {},
   "outputs": [
    {
     "name": "stdout",
     "output_type": "stream",
     "text": [
      "x = 5\n",
      "x = Five\n"
     ]
    }
   ],
   "source": [
    "x = 5\n",
    "print(\"x =\", x)\n",
    "\n",
    "x = \"Five\"\n",
    "print(\"x =\", x)"
   ]
  },
  {
   "cell_type": "code",
   "execution_count": 3,
   "metadata": {},
   "outputs": [
    {
     "name": "stdout",
     "output_type": "stream",
     "text": [
      "--------------------------------------------------\n"
     ]
    }
   ],
   "source": [
    "print('-' * 50)"
   ]
  },
  {
   "cell_type": "markdown",
   "metadata": {},
   "source": [
    " ---"
   ]
  },
  {
   "cell_type": "markdown",
   "metadata": {},
   "source": [
    "# Operators"
   ]
  },
  {
   "cell_type": "code",
   "execution_count": 4,
   "metadata": {},
   "outputs": [
    {
     "name": "stdout",
     "output_type": "stream",
     "text": [
      "x + y = 14\n",
      "x - y = 6\n",
      "x * y = 40\n",
      "x / y = 2.5\n",
      "x // y = 2\n",
      "x % y = 2\n",
      "x ** y = 10000\n"
     ]
    }
   ],
   "source": [
    "x = 10\n",
    "y = 4\n",
    "\n",
    "print('x + y =', x+y)\n",
    "\n",
    "print('x - y =', x-y) \n",
    "\n",
    "print('x * y =', x*y)\n",
    "\n",
    "print('x / y =', x/y)\n",
    "\n",
    "print('x // y =', x//y)\n",
    "\n",
    "print('x % y =', x%y)\n",
    "\n",
    "print('x ** y =', x**y)"
   ]
  },
  {
   "cell_type": "code",
   "execution_count": 5,
   "metadata": {},
   "outputs": [
    {
     "name": "stdout",
     "output_type": "stream",
     "text": [
      "11\n",
      "16\n",
      "3.2\n"
     ]
    }
   ],
   "source": [
    "x = 10\n",
    "\n",
    "x+=1 #not x++\n",
    "print(x)\n",
    "\n",
    "x+=5\n",
    "print(x)\n",
    "\n",
    "x /= 5\n",
    "print(x)"
   ]
  },
  {
   "cell_type": "markdown",
   "metadata": {},
   "source": [
    " "
   ]
  },
  {
   "cell_type": "markdown",
   "metadata": {},
   "source": [
    "# User Input"
   ]
  },
  {
   "cell_type": "code",
   "execution_count": 6,
   "metadata": {},
   "outputs": [
    {
     "name": "stdout",
     "output_type": "stream",
     "text": [
      "Enter a string:abc\n",
      "You've entered: abc\n"
     ]
    }
   ],
   "source": [
    "inputString = input('Enter a string:')\n",
    "print('You\\'ve entered:', inputString)"
   ]
  },
  {
   "cell_type": "markdown",
   "metadata": {},
   "source": [
    " "
   ]
  },
  {
   "cell_type": "markdown",
   "metadata": {},
   "source": [
    "# Comments"
   ]
  },
  {
   "cell_type": "code",
   "execution_count": 7,
   "metadata": {},
   "outputs": [
    {
     "data": {
      "text/plain": [
       "'This is also a\\n multiline\\n comment.'"
      ]
     },
     "execution_count": 7,
     "metadata": {},
     "output_type": "execute_result"
    }
   ],
   "source": [
    "# This is a comment\n",
    "\n",
    "\"\"\"This is a \n",
    "    multiline\n",
    "    comment.\"\"\"\n",
    "    \n",
    "'''This is also a\n",
    " multiline\n",
    " comment.'''"
   ]
  },
  {
   "cell_type": "markdown",
   "metadata": {},
   "source": [
    " "
   ]
  },
  {
   "cell_type": "markdown",
   "metadata": {},
   "source": [
    "# Type Conversion"
   ]
  },
  {
   "cell_type": "code",
   "execution_count": 8,
   "metadata": {},
   "outputs": [
    {
     "name": "stdout",
     "output_type": "stream",
     "text": [
      "value of var_new: 124.23\n",
      "type of var_new: <class 'float'>\n"
     ]
    }
   ],
   "source": [
    "var_int = 123  # Int\n",
    "var_flo = 1.23  # Float\n",
    "\n",
    "var_new = var_int + var_flo\n",
    "\n",
    "print(\"value of var_new:\",var_new)\n",
    "print(\"type of var_new:\",type(var_new))"
   ]
  },
  {
   "cell_type": "code",
   "execution_count": 9,
   "metadata": {},
   "outputs": [
    {
     "name": "stdout",
     "output_type": "stream",
     "text": [
      "123 456\n",
      "123456\n",
      "579\n"
     ]
    }
   ],
   "source": [
    "num_int = 123     # int\n",
    "num_str = \"456\"   # str\n",
    "\n",
    "#print(num_int + num_str)  # FAILS\n",
    "print(num_int, num_str)\n",
    "print(str(num_int) + num_str)\n",
    "print((num_int) + int(num_str))"
   ]
  },
  {
   "cell_type": "markdown",
   "metadata": {},
   "source": [
    " "
   ]
  },
  {
   "cell_type": "markdown",
   "metadata": {},
   "source": [
    "# Python Numeric Types"
   ]
  },
  {
   "cell_type": "code",
   "execution_count": 10,
   "metadata": {},
   "outputs": [
    {
     "name": "stdout",
     "output_type": "stream",
     "text": [
      "<class 'int'>\n",
      "<class 'float'>\n",
      "<class 'complex'>\n"
     ]
    }
   ],
   "source": [
    "print(type(3))\n",
    "\n",
    "print(type(3.0))\n",
    "\n",
    "print(type(2 + 3j))"
   ]
  },
  {
   "cell_type": "markdown",
   "metadata": {},
   "source": [
    " "
   ]
  },
  {
   "cell_type": "markdown",
   "metadata": {},
   "source": [
    "# Lists"
   ]
  },
  {
   "cell_type": "code",
   "execution_count": 11,
   "metadata": {},
   "outputs": [
    {
     "name": "stdout",
     "output_type": "stream",
     "text": [
      "Type:  <class 'list'>\n",
      "French\n",
      "English\n",
      "Italian\n",
      "['German', 'English', 'Polish']\n"
     ]
    },
    {
     "data": {
      "text/plain": [
       "'English'"
      ]
     },
     "execution_count": 11,
     "metadata": {},
     "output_type": "execute_result"
    }
   ],
   "source": [
    "language = [\"French\", \"German\", \"English\", \"Polish\"]\n",
    "\n",
    "print(\"Type: \", type(language))\n",
    "\n",
    "# 1st element\n",
    "print(language[0])\n",
    "\n",
    "\n",
    "# # 3rd element\n",
    "print(language[2])\n",
    "\n",
    "language[0] = \"Italian\"\n",
    "print(language[0])\n",
    "\n",
    "language[1:3]\n",
    "\n",
    "# print(language)\n",
    "\n",
    "# #remove second element\n",
    "language.pop(0)\n",
    "print(language)\n",
    "\n",
    "\n",
    "language[-2]"
   ]
  },
  {
   "cell_type": "code",
   "execution_count": 12,
   "metadata": {},
   "outputs": [
    {
     "data": {
      "text/plain": [
       "['__add__',\n",
       " '__class__',\n",
       " '__contains__',\n",
       " '__delattr__',\n",
       " '__delitem__',\n",
       " '__dir__',\n",
       " '__doc__',\n",
       " '__eq__',\n",
       " '__format__',\n",
       " '__ge__',\n",
       " '__getattribute__',\n",
       " '__getitem__',\n",
       " '__gt__',\n",
       " '__hash__',\n",
       " '__iadd__',\n",
       " '__imul__',\n",
       " '__init__',\n",
       " '__init_subclass__',\n",
       " '__iter__',\n",
       " '__le__',\n",
       " '__len__',\n",
       " '__lt__',\n",
       " '__mul__',\n",
       " '__ne__',\n",
       " '__new__',\n",
       " '__reduce__',\n",
       " '__reduce_ex__',\n",
       " '__repr__',\n",
       " '__reversed__',\n",
       " '__rmul__',\n",
       " '__setattr__',\n",
       " '__setitem__',\n",
       " '__sizeof__',\n",
       " '__str__',\n",
       " '__subclasshook__',\n",
       " 'append',\n",
       " 'clear',\n",
       " 'copy',\n",
       " 'count',\n",
       " 'extend',\n",
       " 'index',\n",
       " 'insert',\n",
       " 'pop',\n",
       " 'remove',\n",
       " 'reverse',\n",
       " 'sort']"
      ]
     },
     "execution_count": 12,
     "metadata": {},
     "output_type": "execute_result"
    }
   ],
   "source": [
    "dir(language)"
   ]
  },
  {
   "cell_type": "markdown",
   "metadata": {},
   "source": [
    " "
   ]
  },
  {
   "cell_type": "markdown",
   "metadata": {},
   "source": [
    "# Tuples"
   ]
  },
  {
   "cell_type": "code",
   "execution_count": 13,
   "metadata": {},
   "outputs": [
    {
     "name": "stdout",
     "output_type": "stream",
     "text": [
      "German\n",
      "Polish\n",
      "Polish\n",
      "English\n"
     ]
    },
    {
     "ename": "TypeError",
     "evalue": "'tuple' object does not support item assignment",
     "output_type": "error",
     "traceback": [
      "\u001b[0;31m---------------------------------------------------------------------------\u001b[0m",
      "\u001b[0;31mTypeError\u001b[0m                                 Traceback (most recent call last)",
      "\u001b[0;32m<ipython-input-13-305a9751cd53>\u001b[0m in \u001b[0;36m<module>\u001b[0;34m\u001b[0m\n\u001b[1;32m      7\u001b[0m \u001b[0;34m\u001b[0m\u001b[0m\n\u001b[1;32m      8\u001b[0m \u001b[0;34m\u001b[0m\u001b[0m\n\u001b[0;32m----> 9\u001b[0;31m \u001b[0mlanguage\u001b[0m\u001b[0;34m[\u001b[0m\u001b[0;36m0\u001b[0m\u001b[0;34m]\u001b[0m \u001b[0;34m=\u001b[0m \u001b[0;34m\"Italian\"\u001b[0m\u001b[0;34m\u001b[0m\u001b[0;34m\u001b[0m\u001b[0m\n\u001b[0m",
      "\u001b[0;31mTypeError\u001b[0m: 'tuple' object does not support item assignment"
     ]
    }
   ],
   "source": [
    "language = (\"French\", \"German\", \"English\", \"Polish\")\n",
    "\n",
    "print(language[1])\n",
    "print(language[3])\n",
    "print(language[-1])\n",
    "print(language[-2])\n",
    "\n",
    "\n",
    "language[0] = \"Italian\""
   ]
  },
  {
   "cell_type": "markdown",
   "metadata": {},
   "source": [
    " "
   ]
  },
  {
   "cell_type": "markdown",
   "metadata": {},
   "source": [
    "# String"
   ]
  },
  {
   "cell_type": "code",
   "execution_count": 14,
   "metadata": {},
   "outputs": [
    {
     "name": "stdout",
     "output_type": "stream",
     "text": [
      "Hello\n",
      "Hello\n",
      "Hello\n",
      "Hello, welcome to\n",
      "           the world of Python\n",
      "hellodsfsdfmsklmewfewlkfnwelkfmw\n",
      "elkfmwe fnwelkfmwelkfmwe fnwelkfmwelkfmwe fnwelkf\n",
      "mwelkfmwe fnwelkfmwelkfmwe fkew fwefeworld\n"
     ]
    }
   ],
   "source": [
    "my_string = 'Hello'\n",
    "print(my_string)\n",
    "\n",
    "my_string = \"Hello\"\n",
    "print(my_string)\n",
    "\n",
    "my_string = '''Hello'''\n",
    "print(my_string)\n",
    "\n",
    "# triple quotes string for multiple lines\n",
    "my_string = \"\"\"Hello, welcome to\n",
    "           the world of Python\"\"\"\n",
    "print(my_string)\n",
    "\n",
    "\n",
    "my_string = \"hellodsfsdfmsklmewfewlkfnwelkfmw\"\\\n",
    "\"elkfmwe fnwelkfmwelkfmwe fnwelkfmwelkfmwe fnwelkf\"\\\n",
    "\"mwelkfmwe fnwelkfmwelkfmwe fkew fwefeworld\"\n",
    "\n",
    "my_string = \"\"\"hellodsfsdfmsklmewfewlkfnwelkfmw\n",
    "elkfmwe fnwelkfmwelkfmwe fnwelkfmwelkfmwe fnwelkf\n",
    "mwelkfmwe fnwelkfmwelkfmwe fkew fwefeworld\"\"\"\n",
    "print(my_string)"
   ]
  },
  {
   "cell_type": "code",
   "execution_count": 15,
   "metadata": {},
   "outputs": [
    {
     "name": "stdout",
     "output_type": "stream",
     "text": [
      "str =  python\n",
      "str[0] =  p\n",
      "str[-1] =  n\n",
      "str[1:4] =  yth\n",
      "str[2:-2] =  th\n"
     ]
    }
   ],
   "source": [
    "# slicing\n",
    "str = 'python'\n",
    "print('str = ', str)\n",
    "\n",
    "print('str[0] = ', str[0])\n",
    "\n",
    "print('str[-1] = ', str[-1])\n",
    "\n",
    "print('str[1:4] = ', str[1:4])\n",
    "\n",
    "print('str[2:-2] = ', str[2:-2])"
   ]
  },
  {
   "cell_type": "code",
   "execution_count": 16,
   "metadata": {},
   "outputs": [
    {
     "name": "stdout",
     "output_type": "stream",
     "text": [
      "Hello World!\n",
      "******************************\n"
     ]
    }
   ],
   "source": [
    "str1 = 'Hello '\n",
    "str2 ='World!'\n",
    "\n",
    "print(str1 + str2)\n",
    "\n",
    "print(\"*\" * 30)"
   ]
  },
  {
   "cell_type": "markdown",
   "metadata": {},
   "source": [
    "---"
   ]
  },
  {
   "cell_type": "markdown",
   "metadata": {},
   "source": [
    " # Sets"
   ]
  },
  {
   "cell_type": "code",
   "execution_count": 17,
   "metadata": {},
   "outputs": [
    {
     "name": "stdout",
     "output_type": "stream",
     "text": [
      "{1, 2, 3}\n",
      "{1.0, (1, 2, 3), 'Hello'}\n"
     ]
    }
   ],
   "source": [
    "# int set\n",
    "my_set = {1, 2, 3}\n",
    "print(my_set)\n",
    "\n",
    "# set of mixed types\n",
    "my_set = {1.0, \"Hello\", (1, 2, 3)}\n",
    "print(my_set)"
   ]
  },
  {
   "cell_type": "code",
   "execution_count": 18,
   "metadata": {},
   "outputs": [
    {
     "name": "stdout",
     "output_type": "stream",
     "text": [
      "{1, 2, 3, 4}\n",
      "{1, 2, 3, 4}\n",
      "{1, 2, 3, 4, 5}\n",
      "{1, 2, 3, 5}\n"
     ]
    }
   ],
   "source": [
    "# int set\n",
    "my_set = {1, 2, 3}\n",
    "\n",
    "my_set.add(4)\n",
    "print(my_set)\n",
    "\n",
    "my_set.add(2)\n",
    "my_set.add(2)\n",
    "my_set.add(2)\n",
    "my_set.add(2)\n",
    "print(my_set)\n",
    "\n",
    "my_set.update([3, 4, 5]) \n",
    "print(my_set)\n",
    "\n",
    "my_set.remove(4)\n",
    "print(my_set)"
   ]
  },
  {
   "cell_type": "code",
   "execution_count": 19,
   "metadata": {},
   "outputs": [
    {
     "name": "stdout",
     "output_type": "stream",
     "text": [
      "{1, 2, 3, 4, 5}\n",
      "{2, 3}\n",
      "{1}\n",
      "{1, 4, 5}\n"
     ]
    }
   ],
   "source": [
    "A = {1, 2, 3}\n",
    "B = {2, 3, 4, 5}\n",
    "\n",
    "# union\n",
    "print(A | B) # 1,2,3,4,5\n",
    "\n",
    "# intersection\n",
    "print (A & B)  # 2, 3\n",
    "\n",
    "# difference\n",
    "print (A - B)  #1\n",
    "\n",
    "# symmetric difference\n",
    "print(A ^ B)  #1,4,5"
   ]
  },
  {
   "cell_type": "markdown",
   "metadata": {},
   "source": [
    "---"
   ]
  },
  {
   "cell_type": "markdown",
   "metadata": {},
   "source": [
    "# Dictionaries"
   ]
  },
  {
   "cell_type": "code",
   "execution_count": 20,
   "metadata": {},
   "outputs": [],
   "source": [
    "# empty dict\n",
    "my_dict = {}\n",
    "\n",
    "# dict with int keys\n",
    "my_dict = {1: 'apple', 2: 'pear'}\n",
    "\n",
    "# dictionary with mixed keys\n",
    "my_dict = {'name': 'Alice', 1: [2, 4, 3]}"
   ]
  },
  {
   "cell_type": "code",
   "execution_count": 21,
   "metadata": {},
   "outputs": [
    {
     "name": "stdout",
     "output_type": "stream",
     "text": [
      "25\n"
     ]
    }
   ],
   "source": [
    "peter = {'name':'Peter', 'age': 25, 'salary': 25000}\n",
    "print(peter['age'])\n"
   ]
  },
  {
   "cell_type": "code",
   "execution_count": 22,
   "metadata": {},
   "outputs": [
    {
     "name": "stdout",
     "output_type": "stream",
     "text": [
      "{'name': 'Oscar', 'age': 30}\n",
      "{'name': 'Oscar', 'age': 36}\n",
      "{'name': 'Oscar', 'age': 36, 'height': 6}\n",
      "{'name': 'Oscar', 'height': 6}\n",
      "Key:  name  Value:  Oscar\n",
      "Key:  height  Value:  6\n"
     ]
    }
   ],
   "source": [
    "person = {'name':'Oscar', 'age': 30}\n",
    "\n",
    "print(person)\n",
    "\n",
    "# Changing age to 36\n",
    "person['age'] = 36 \n",
    "print(person)\n",
    "\n",
    "# Adding height\n",
    "person['height'] = 6\n",
    "print(person)\n",
    "\n",
    "\n",
    "# Deleting age\n",
    "del person['age']\n",
    "print(person)\n",
    "\n",
    "\n",
    "for k,v in person.items():\n",
    "    print('Key: ', k ,' Value: ' , v)"
   ]
  },
  {
   "cell_type": "code",
   "execution_count": 23,
   "metadata": {},
   "outputs": [
    {
     "data": {
      "text/plain": [
       "['name', 'height']"
      ]
     },
     "execution_count": 23,
     "metadata": {},
     "output_type": "execute_result"
    }
   ],
   "source": [
    "[x for x in person.keys()]\n"
   ]
  },
  {
   "cell_type": "markdown",
   "metadata": {},
   "source": [
    "---"
   ]
  },
  {
   "cell_type": "markdown",
   "metadata": {},
   "source": [
    "# range()"
   ]
  },
  {
   "cell_type": "code",
   "execution_count": 24,
   "metadata": {},
   "outputs": [
    {
     "name": "stdout",
     "output_type": "stream",
     "text": [
      "[0, 1, 2, 3, 4, 5]\n",
      "(1, 2, 3, 4, 5)\n",
      "{5, 6, 7, 8, 9}\n"
     ]
    }
   ],
   "source": [
    "print(list(range(6)))\n",
    "\n",
    "print(tuple(range(1,6)))\n",
    "\n",
    "print(set(range(5,10)))"
   ]
  },
  {
   "cell_type": "code",
   "execution_count": 25,
   "metadata": {},
   "outputs": [
    {
     "name": "stdout",
     "output_type": "stream",
     "text": [
      "[1, 2, 3, 4, 5, 6, 7, 8, 9]\n",
      "[1, 4, 7]\n",
      "[10, 8, 6, 4, 2]\n"
     ]
    }
   ],
   "source": [
    "# step range\n",
    "print(list(range(1, 10 , 1)))\n",
    "\n",
    "print(list(range(1, 10, 3)))\n",
    "\n",
    "print(list( range(10, 0, -2)))\n"
   ]
  },
  {
   "cell_type": "markdown",
   "metadata": {},
   "source": [
    "---"
   ]
  },
  {
   "cell_type": "markdown",
   "metadata": {},
   "source": [
    "# if/else\n"
   ]
  },
  {
   "cell_type": "code",
   "execution_count": 26,
   "metadata": {},
   "outputs": [
    {
     "name": "stdout",
     "output_type": "stream",
     "text": [
      "Negative\n"
     ]
    }
   ],
   "source": [
    "num = -1\n",
    "\n",
    "if num > 0:\n",
    "    print(\"Positive\")\n",
    "elif num == 0:\n",
    "    print(\"Zero\")\n",
    "else:\n",
    "    print(\"Negative\")"
   ]
  },
  {
   "cell_type": "markdown",
   "metadata": {},
   "source": [
    "---"
   ]
  },
  {
   "cell_type": "markdown",
   "metadata": {},
   "source": [
    "# while loop"
   ]
  },
  {
   "cell_type": "code",
   "execution_count": 27,
   "metadata": {},
   "outputs": [
    {
     "name": "stdout",
     "output_type": "stream",
     "text": [
      "Sum = 55\n"
     ]
    }
   ],
   "source": [
    "n = 10\n",
    "\n",
    "sum = 0 #store sume\n",
    "i = 1\n",
    "\n",
    "while i <= n:\n",
    "    sum += i\n",
    "    i += 1    # increment\n",
    "\n",
    "print(\"Sum =\", sum)"
   ]
  },
  {
   "cell_type": "markdown",
   "metadata": {},
   "source": [
    " ---"
   ]
  },
  {
   "cell_type": "markdown",
   "metadata": {},
   "source": [
    "# for loop"
   ]
  },
  {
   "cell_type": "code",
   "execution_count": 28,
   "metadata": {},
   "outputs": [
    {
     "name": "stdout",
     "output_type": "stream",
     "text": [
      "Sum = 15\n"
     ]
    }
   ],
   "source": [
    "numbers = [1, 2, 3, 4, 5]\n",
    "\n",
    "sum = 0\n",
    "\n",
    "# iterate over the list\n",
    "for x in numbers:\n",
    "    sum += x\n",
    "\n",
    "print(\"Sum =\", sum)"
   ]
  },
  {
   "cell_type": "markdown",
   "metadata": {},
   "source": [
    "---"
   ]
  },
  {
   "cell_type": "markdown",
   "metadata": {},
   "source": [
    "# break statement"
   ]
  },
  {
   "cell_type": "code",
   "execution_count": 29,
   "metadata": {},
   "outputs": [
    {
     "name": "stdout",
     "output_type": "stream",
     "text": [
      "0\n",
      "1\n",
      "2\n",
      "3\n",
      "4\n"
     ]
    }
   ],
   "source": [
    "i = 0\n",
    "\n",
    "while True:\n",
    "    if i == 5:\n",
    "        break\n",
    "    print(i)\n",
    "    i += 1"
   ]
  },
  {
   "cell_type": "markdown",
   "metadata": {},
   "source": [
    "---"
   ]
  },
  {
   "cell_type": "markdown",
   "metadata": {},
   "source": [
    "# continue statement"
   ]
  },
  {
   "cell_type": "code",
   "execution_count": 30,
   "metadata": {},
   "outputs": [
    {
     "name": "stdout",
     "output_type": "stream",
     "text": [
      "0\n",
      "1\n",
      "2\n",
      "4\n",
      "5\n",
      "6\n",
      "7\n",
      "8\n",
      "9\n"
     ]
    }
   ],
   "source": [
    "for i in range(10):\n",
    "    if i == 3:\n",
    "        continue  # Skip\n",
    "    print(i)"
   ]
  },
  {
   "cell_type": "code",
   "execution_count": 31,
   "metadata": {},
   "outputs": [
    {
     "name": "stdout",
     "output_type": "stream",
     "text": [
      "0\n",
      "1\n",
      "2\n",
      "8\n",
      "9\n"
     ]
    }
   ],
   "source": [
    "# and or in if showcase\n",
    "for i in range(10):\n",
    "    if i > 2 and i < 8:  #FAIL\n",
    "        continue\n",
    "    print(i)"
   ]
  },
  {
   "cell_type": "markdown",
   "metadata": {},
   "source": [
    "---"
   ]
  },
  {
   "cell_type": "markdown",
   "metadata": {},
   "source": [
    "# pass statement"
   ]
  },
  {
   "cell_type": "code",
   "execution_count": 32,
   "metadata": {},
   "outputs": [],
   "source": [
    "for i in range(3):\n",
    "    pass  # IMPORTANT\n",
    "    "
   ]
  },
  {
   "cell_type": "markdown",
   "metadata": {},
   "source": [
    "---"
   ]
  },
  {
   "cell_type": "markdown",
   "metadata": {},
   "source": [
    "# Function"
   ]
  },
  {
   "cell_type": "code",
   "execution_count": 33,
   "metadata": {},
   "outputs": [
    {
     "name": "stdout",
     "output_type": "stream",
     "text": [
      "17\n"
     ]
    }
   ],
   "source": [
    "def add_numbers(a, b):\n",
    "    \"\"\" Adds two numbers together\"\"\"\n",
    "    \n",
    "    # Calculate the total and return\n",
    "    return a + b\n",
    "\n",
    "print(add_numbers(6, 11))"
   ]
  },
  {
   "cell_type": "markdown",
   "metadata": {},
   "source": [
    "---"
   ]
  },
  {
   "cell_type": "markdown",
   "metadata": {},
   "source": [
    "# Lambda Function"
   ]
  },
  {
   "cell_type": "code",
   "execution_count": 34,
   "metadata": {},
   "outputs": [
    {
     "name": "stdout",
     "output_type": "stream",
     "text": [
      "Square = 25\n"
     ]
    }
   ],
   "source": [
    "square_func = lambda x: x ** 2\n",
    "\n",
    "print(\"Square =\", square_func(5))\n",
    "\n",
    "\n",
    "# add_numbers_lambda = lambda x,y: x + y\n",
    "\n",
    "# print(\"Sum =\", add_numbers_lambda(6,11))\n"
   ]
  },
  {
   "cell_type": "markdown",
   "metadata": {},
   "source": [
    "---"
   ]
  },
  {
   "cell_type": "markdown",
   "metadata": {},
   "source": [
    "# Modules"
   ]
  },
  {
   "cell_type": "code",
   "execution_count": 35,
   "metadata": {},
   "outputs": [
    {
     "name": "stdout",
     "output_type": "stream",
     "text": [
      "2.0\n",
      "3.141592653589793\n"
     ]
    }
   ],
   "source": [
    "import math\n",
    "\n",
    "result = math.log10(100)\n",
    "print(result)\n",
    "\n",
    "print(math.pi)"
   ]
  },
  {
   "cell_type": "markdown",
   "metadata": {},
   "source": [
    "---"
   ]
  },
  {
   "cell_type": "markdown",
   "metadata": {},
   "source": [
    "# Classes and Objects"
   ]
  },
  {
   "cell_type": "code",
   "execution_count": 36,
   "metadata": {},
   "outputs": [
    {
     "name": "stdout",
     "output_type": "stream",
     "text": [
      "10\n"
     ]
    }
   ],
   "source": [
    "class MyClass:\n",
    "    \"\"\" This is a dummy class \"\"\"\n",
    "    a = 10\n",
    "    \n",
    "    def __init__(self, x):\n",
    "        self.x = x\n",
    "        \n",
    "    def printx(self):\n",
    "        print(self.x)\n",
    "        \n",
    "    def func(self):\n",
    "        print('Hello')\n",
    "        \n",
    "        \n",
    "\n",
    "print(MyClass.a)\n",
    "\n",
    "\n",
    "# my_class_obj = MyClass(123)\n",
    "\n",
    "# my_class_obj.func()\n",
    "\n",
    "\n",
    "# print(MyClass.__doc__)\n",
    "\n",
    "# my_class_obj = MyClass(123)\n",
    "# my_class_obj.printx()\n",
    "\n",
    "\n",
    "# my_class_obj2 = MyClass(456)\n",
    "# my_class_obj2.printx()\n",
    "\n"
   ]
  },
  {
   "cell_type": "code",
   "execution_count": 37,
   "metadata": {},
   "outputs": [
    {
     "name": "stdout",
     "output_type": "stream",
     "text": [
      "2+3j\n",
      "0+0j\n"
     ]
    }
   ],
   "source": [
    "class ComplexNumber:\n",
    "    # constructor\n",
    "    def __init__(self,r = 0, i = 0):  \n",
    "        self.real = r\n",
    "        self.imag = i\n",
    "\n",
    "    def getData(self):\n",
    "        print(\"{0}+{1}j\".format(self.real,self.imag))\n",
    "\n",
    "\n",
    "c1 = ComplexNumber(2,3)\n",
    "c1.getData()\n",
    "\n",
    "c2 = ComplexNumber()\n",
    "c2.getData()"
   ]
  },
  {
   "cell_type": "code",
   "execution_count": null,
   "metadata": {},
   "outputs": [],
   "source": []
  }
 ],
 "metadata": {
  "kernelspec": {
   "display_name": "Python 3",
   "language": "python",
   "name": "python3"
  },
  "language_info": {
   "codemirror_mode": {
    "name": "ipython",
    "version": 3
   },
   "file_extension": ".py",
   "mimetype": "text/x-python",
   "name": "python",
   "nbconvert_exporter": "python",
   "pygments_lexer": "ipython3",
   "version": "3.8.3"
  }
 },
 "nbformat": 4,
 "nbformat_minor": 2
}
